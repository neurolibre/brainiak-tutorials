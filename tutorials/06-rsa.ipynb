{
 "cells": [
  {
   "cell_type": "markdown",
   "metadata": {},
   "source": [
    "# Representational Similarity Analysis\n",
    "[Contributions](#contributions)\n",
    "\n",
    "Oranges and orange ping-pong balls are not kept next to each other in the grocery store. The oranges are usually placed with other fruits and ping-pong balls with other sport equipment. This helps us shop easily, as we usually group our shopping by categories: fruits and vegetables, meat and dairy, frozen foods, and, somewhere far away, kitchen supplies, toys and sports. Beyond grocery stores, are these meaningful conceptual groupings in the brain? Are patterns of neural activity for oranges and apples more similar to each other as compared to the patterns for oranges and ping-pong balls?\n",
    "\n",
    "One could conceivably group items based on other attributes such as shape and color. This would make the neural representations of oranges and orange colored ping-pong balls very similar to each other. In a brain region that cares about color, the neural similarity would be greater for oranges and orange ping-pong balls, compared to oranges and red apples. How can we determine the similarity between neural representations and which attributes are driving this similarity?\n",
    "\n",
    "Representational similarity analysis (RSA) is a way to compare and contrast different brain states and the stimuli that elicited them. In RSA, we compute a similarity measure (often a correlation) between patterns of neural activity for all items being compared. Then, to examine whether neural patterns in a brain region are grouped by color, shape, or category, we can order the similarity measure based on a model that groups by these attributes.\n",
    "\n",
    "RSA is a highly versatile tool: it can be used to compare brain activity to models, compare data across brain imaging techniques, and even to make cross-species comparisons. You can learn more about the RSA method [here](https://doi.org/10.3389/neuro.06.004.2008) and [here](https://doi.org/10.1016/j.tics.2013.06.007).\n",
    "    \n",
    "## Goal of this script\n",
    "\n",
    ">1. Learn how to perform RSA on a dataset\n",
    "  >> Calculate and plot Pearson and Spearman correlations in ROIs  \n",
    "  >> Order these similarity matrices in a meaningful way  \n",
    "  >> Interpret a (dis)similarity matrix  \n",
    ">2. Visualize similarity with multi dimensional scaling (MDS)\n",
    "\n",
    "## Table of Contents  \n",
    "[1. Prepare for RSA](#preprocessing)\n",
    ">[1.1 Load the data for one subject](#load_data)  \n",
    ">[1.2 Helper Functions ](#helper)  \n",
    ">[1.3 Visualize the data](#visualize_data)  \n",
    "\n",
    "[2. Create a similarity matrix](#sim_mat)  \n",
    ">[2.1 Reorder data into categories](#reorder)  \n",
    ">[2.2 How to read a similarity matrix](#read_sim_mat)  \n",
    ">[2.3 Representational dissimilarity](#read_dsim_mat)  \n",
    ">[2.4 Comparison of representations in monkeys and humans](#rdm-monkey-human)  \n",
    "\n",
    "[3. Manifolds and multi-dimensional scaling (MDS)](#mds)   \n",
    ">[3.1 Plotting RDM in 2d](#plot_2d)  \n",
    ">[3.2 Plotting RDM in 3d](#plot_3d)  \n",
    "\n",
    "\n",
    "Exercises\n",
    ">[Exercise 1](#ex1)   [2](#ex2)  [3](#ex3)  [4](#ex4)  [5](#ex5)  [6](#ex6)  [7](#ex7)  [8](#ex8)  [9](#ex9) [10](#ex10)\n",
    "\n",
    "[Novel contribution](#novel)  "
   ]
  },
  {
   "cell_type": "markdown",
   "metadata": {},
   "source": [
    "### Dataset <a id=\"preprocessing\"></a> \n",
    "\n",
    "The dataset we will be using for this exercise is from [Kriegeskorte et al. (2008)](https://www.sciencedirect.com/science/article/pii/S0896627308009434), called 'Ninetysix' in the `datasets` folder. 96 visual stimuli, from the 6 categories listed below, were presented to participants. The image stimuli are stored in the subfolder `Stimuli`.\n",
    "\n",
    "The data have 6 categories:  \n",
    "    1. artificial inanimate (object/scene)\n",
    "    2. human bodypart \n",
    "    3. human face \n",
    "    4. natural inanimate (object/scene)\n",
    "    5. nonhuman bodypart\n",
    "    6. nonhuman face\n",
    "\n",
    "**Self-study:** Explore the data"
   ]
  },
  {
   "cell_type": "code",
   "execution_count": null,
   "metadata": {},
   "outputs": [],
   "source": [
    "import warnings\n",
    "import sys \n",
    "if not sys.warnoptions:\n",
    "    warnings.simplefilter(\"ignore\")\n",
    "\n",
    "import os\n",
    "import numpy as np\n",
    "import pandas as pd\n",
    "import scipy.io\n",
    "from scipy import stats\n",
    "from sklearn.manifold import MDS\n",
    "import scipy.spatial.distance as sp_distance\n",
    "\n",
    "import matplotlib.pyplot as plt\n",
    "import seaborn as sns \n",
    "from mpl_toolkits.mplot3d import Axes3D\n",
    "\n",
    "# %matplotlib notebook\n",
    "%matplotlib inline\n",
    "%autosave 5\n",
    "sns.set(style = 'white', context='poster', rc={\"lines.linewidth\": 2.5})\n",
    "sns.set(palette=\"colorblind\")"
   ]
  },
  {
   "cell_type": "markdown",
   "metadata": {},
   "source": [
    "### 1.1 Load the data for one subject<a id=\"load_data\"></a>\n",
    "\n",
    "The data for these participants are stored as a matlab file (it was 2008 after all...). Python is able to load matlab files using a scipy utility. However, the file formats can be tricky and may require transformations to make compatible with typical Python organization. \n",
    "\n",
    "The data from matlab are stored as a dictionary where the variables in the matlab files are keys in the dictionary:\n",
    "\n",
    ">The ROI names are listed in **roinames**.   \n",
    ">The category label indices for each condition are listed in **labels**.   \n",
    ">The label indices correspond to entries in **categoryNames**.  \n",
    ">The data for each ROI, in the order of roinames, is stored in **roi_data**.  \n",
    "\n",
    "Each row of roi_data represents a stimulus (as defined in labels) and each column represents a voxel (there will be different numbers of voxels in different ROIs). These data have been preprocessed and each entry is stored in terms of t-values. There is no time information and no baseline signal to be used for reference.\n",
    "\n",
    "**Self-study:** What do you think these t-values reflect?\n",
    "\n",
    "The last 4 rows of the dataset have unknown labels (dun dun dunnnnn!). We'll use only the first 92 rows for analysis, for now.\n",
    "\n",
    "In the analyses that follow we are going to explore the data of subject 'BE'."
   ]
  },
  {
   "cell_type": "markdown",
   "metadata": {},
   "source": [
    "### 1.2 Helper Functions <a id=\"helper\"> </a>\n",
    "\n",
    "To make it easy for you to achieve the main goals of this notebook, we have created helper functions that extract data from matlab files and convert into numpy arrays."
   ]
  },
  {
   "cell_type": "code",
   "execution_count": null,
   "metadata": {},
   "outputs": [],
   "source": [
    "from utils import load_data_for_a_subj, digitize_rdm, ns_data_dir"
   ]
  },
  {
   "cell_type": "code",
   "execution_count": null,
   "metadata": {},
   "outputs": [],
   "source": [
    "# Load the data for one subject\n",
    "subj_initials = 'BE'\n",
    "data_pack = load_data_for_a_subj(subj_initials)\n",
    "images, roi_data, roi_names, n_rois, categories, n_categories, labels, label_dict = data_pack\n",
    "n_stimuli = len(images)"
   ]
  },
  {
   "cell_type": "markdown",
   "metadata": {},
   "source": [
    "**Exercise 1:**<a id=\"ex1\"></a> Inspect the data. \n",
    "- Print the name of each category.\n",
    "- Report the shape of the data for each ROI and what each dimension means"
   ]
  },
  {
   "cell_type": "code",
   "execution_count": null,
   "metadata": {},
   "outputs": [],
   "source": [
    "# Insert code here"
   ]
  },
  {
   "cell_type": "markdown",
   "metadata": {},
   "source": [
    "### 1.3 Visualize the data <a id=\"visualize_data\"></a>\n",
    "\n",
    "It is always a good idea to plot data as a sanity check before starting analysis. \n",
    "\n",
    "We also want to see the corresponding labels. Notice the category order is random."
   ]
  },
  {
   "cell_type": "code",
   "execution_count": null,
   "metadata": {},
   "outputs": [],
   "source": [
    "plt.figure()\n",
    "\n",
    "# Label plot\n",
    "plt.subplot(2,1,2)\n",
    "plt.plot(labels)\n",
    "plt.xlabel('Stimuli', fontsize=16)\n",
    "plt.ylabel('Category', fontsize=16)"
   ]
  },
  {
   "cell_type": "markdown",
   "metadata": {},
   "source": [
    "<div class=\"alert alert-block alert-warning\">\n",
    "Notice that the category order is random i.e. the stimuli at every point are from a different category compared to the neighbors.\n",
    "</div>"
   ]
  },
  {
   "cell_type": "markdown",
   "metadata": {},
   "source": [
    "## 2. Create a similarity matrix <a id=\"sim_mat\"></a>\n",
    "\n",
    "Let's examine the similarity of the neural representations of each image with the neural patterns of every other image in the dataset. If the neural patterns are similar between images, we will see high values of similarity, but if the neural patterns are dissimilar, we will see low values of similarity. \n",
    "\n",
    "There are many ways to compute similarity. We start with one of the most common measures of similarity that you are already familiar with: Pearson correlation (see notebook-04). We compute the Pearson correlation on the neural pattern for each image with every other image. We can compute this on data for each of the ROIs that we have just loaded (left and right FFA, and left and right PPA). For each ROI, our computation will result in a 92 x 92 matrix (we only have labels for 92 images). This resulting matrix shows how similar the neural patterns of activity are between images and is called the representational **similarity** matrix (RSM)."
   ]
  },
  {
   "cell_type": "code",
   "execution_count": null,
   "metadata": {},
   "outputs": [],
   "source": [
    "print('ROI names: ', roi_names)"
   ]
  },
  {
   "cell_type": "code",
   "execution_count": null,
   "metadata": {},
   "outputs": [],
   "source": [
    "# Choose your ROI here!\n",
    "roi_id = 1\n",
    "\n",
    "# Plot figure of these correlations\n",
    "f, ax = plt.subplots(1,1, figsize=(8, 7))\n",
    "\n",
    "plt.imshow(\n",
    "    np.corrcoef(roi_data[roi_id]), \n",
    "    cmap='bwr', \n",
    "    vmin=-1,\n",
    "    vmax=1,\n",
    ")\n",
    "plt.colorbar()\n",
    "ax.set_title('RSM, unsorted, %s' % (roi_names[roi_id])) \n",
    "ax.set_xlabel('stimuli id')\n",
    "ax.set_ylabel('stimuli id')"
   ]
  },
  {
   "cell_type": "markdown",
   "metadata": {},
   "source": [
    "**Exercise 2:**<a id=\"ex2\"></a> In the plot above you used Pearson correlation to compute similarity. An alternative metric is a Spearman correlation. \n",
    "\n",
    "- Explain the difference between Pearson and Spearman correlation.  \n",
    "- Redo the analysis above with Spearman correlation.  \n",
    "- Visualize the RSM based on Spearman correlation.  "
   ]
  },
  {
   "cell_type": "markdown",
   "metadata": {},
   "source": [
    "**A:**"
   ]
  },
  {
   "cell_type": "code",
   "execution_count": null,
   "metadata": {},
   "outputs": [],
   "source": [
    "# Insert code here"
   ]
  },
  {
   "cell_type": "markdown",
   "metadata": {},
   "source": [
    "### 2.1 Reorder data into categories <a id=\"reorder\"></a>\n",
    "\n",
    "Although the plot above is useful, it is hard to observe any structure because the order of the stimuli is random. To simplify, let's reorganize into label groups."
   ]
  },
  {
   "cell_type": "code",
   "execution_count": null,
   "metadata": {},
   "outputs": [],
   "source": [
    "# Add the stimulus condition labels so that we can sort the data, collecting rows from the same condition together.\n",
    "sort_ids = labels.argsort()\n",
    "lffa_sorted = roi_data[0][sort_ids, :]\n",
    "\n",
    "plt.figure(figsize=(9,7))\n",
    "\n",
    "# Plot the new sorted results\n",
    "plt.subplot(2,1,1)\n",
    "plt.plot(lffa_sorted[:,0])\n",
    "plt.ylabel('t-Value', fontsize=16)\n",
    "plt.xlim(0, 96)\n",
    "\n",
    "plt.subplot(2,1,2)\n",
    "plt.plot(labels[sort_ids])\n",
    "plt.xlabel('Stimuli', fontsize=16)\n",
    "plt.ylabel('Category', fontsize=16)\n",
    "plt.show()"
   ]
  },
  {
   "cell_type": "code",
   "execution_count": null,
   "metadata": {},
   "outputs": [],
   "source": [
    "# Choose your ROI here! \n",
    "roi_id = 1\n",
    "\n",
    "# Calculate the RSM\n",
    "rsm = np.corrcoef(roi_data[roi_id][sort_ids, :][:92,])\n",
    "\n",
    "# Plot \n",
    "f, ax = plt.subplots(1,1, figsize=(10, 8))\n",
    "plt.imshow(\n",
    "    rsm, \n",
    "    cmap='bwr', \n",
    "    vmin=-1,\n",
    "    vmax=1,\n",
    ")\n",
    "plt.colorbar()\n",
    "\n",
    "# Pull out the bin edges between the different categories\n",
    "binsize = np.histogram(labels[:92,], 6)[0]\n",
    "edges = np.concatenate([np.asarray([0]), np.cumsum(binsize)])[:-1]\n",
    "ax.set_xticks(list(np.array(edges)+8))\n",
    "ax.set_xticklabels(categories, rotation = 30)\n",
    "ax.set_yticks(list(np.array(edges)+8))\n",
    "ax.set_yticklabels(categories)\n",
    "ax.vlines(edges,0,92)\n",
    "ax.hlines(edges,0,92)\n",
    "ax.set_title('RSM, sorted, %s' % roi_names[roi_id])"
   ]
  },
  {
   "cell_type": "markdown",
   "metadata": {},
   "source": [
    "<div class=\"alert alert-block alert-warning\">\n",
    "<strong>Binning the data:</strong> In Figure 1 of Kriegeskorte et al. (2008), the raw correlation values were binned into ten bins based on the percentile score of the dissimilarity value, and the percentile value was plotted. We have created a function `digitize_rdm` to perform the same calculation here and make the plots similar to Figure 1 in Kriegeskorte et al. (2008). \n",
    "<br>    \n",
    "<br>\n",
    "Note that Figure 1 was using dissimilarity rather than similarity and that the data were from a different ROI (inferior temporal cortex, or IT). However, we can apply the same function to our RSM, the only difference being that the percentile will be based on similarity. \n",
    "<br>    \n",
    "<br>\n",
    "The `digitize_rdm` functions works in the following manner:  \n",
    "<br>    \n",
    "<br>\n",
    "1. Create `n_bins` of percentile values.  <br>\n",
    "2. Take in the matrix of correlations and reshape it into a single row. <br> \n",
    "3. Determine the percentile value of every correlation point and assign it to a bin (`np.digitize` does this).  <br>\n",
    "4. Reshape the assigned percentile values into the original correlation matrix shape.  <br>\n",
    "5. Finally, plot the percentile values.<br>\n",
    "<br>\n",
    "</div>"
   ]
  },
  {
   "cell_type": "code",
   "execution_count": null,
   "metadata": {},
   "outputs": [],
   "source": [
    "# Plot the RSM\n",
    "f, ax = plt.subplots(1,1, figsize=(10, 8))\n",
    "plt.imshow(\n",
    "    digitize_rdm(rsm), cmap='jet', \n",
    ")\n",
    "plt.colorbar()\n",
    "\n",
    "# Pull out the bin edges between the different categories\n",
    "binsize = np.histogram(labels[:92,], 6)[0]\n",
    "edges = np.concatenate([np.asarray([0]), np.cumsum(binsize)])[:-1]\n",
    "ax.set_xticks(list(np.array(edges)+8))\n",
    "ax.set_xticklabels(categories, rotation = 30)\n",
    "ax.set_yticks(list(np.array(edges)+8))\n",
    "ax.set_yticklabels(categories)\n",
    "ax.vlines(edges,0,92)\n",
    "ax.hlines(edges,0,92)\n",
    "ax.set_title('RSM digitized %s' % roi_names[roi_id]);\n",
    "    "
   ]
  },
  {
   "cell_type": "code",
   "execution_count": null,
   "metadata": {},
   "outputs": [],
   "source": []
  },
  {
   "cell_type": "markdown",
   "metadata": {},
   "source": [
    "**Exercise 3:**<a id=\"ex3\"></a> This new organization is helpful but could be improved (based on our knowledge of the brain). Order the datapoints so that the categories are as follows: human face, human body part, non-human face, non-human body part, natural inanimate and artificial inanimate. This will make for a nicer looking correlation matrix and will help you see any structure within and between categories. \n",
    "\n",
    "- Write a function to re-order the data. \n",
    "- Recompute the RSM based on the re-ordered data and visualize it.\n",
    "- Visualize the digitized RSM using the digitization function provided earlier. "
   ]
  },
  {
   "cell_type": "code",
   "execution_count": null,
   "metadata": {},
   "outputs": [],
   "source": [
    "# Insert code here"
   ]
  },
  {
   "cell_type": "markdown",
   "metadata": {},
   "source": [
    "### 2.2 How to read a similarity matrix <a id=\"read_sim_mat\"></a>\n",
    "\n",
    "It is important to be able to read a similarity matrix at a glance. There are couple features to look out for and we will highlight these with some toy data.\n",
    "\n",
    "Imagine a scenario where we have 12 trial types (e.g., images) grouped into 4 categories (e.g., faces, objects, body parts, and scenes). We are going to simulate some data that has similar activity within category but different activity between categories."
   ]
  },
  {
   "cell_type": "markdown",
   "metadata": {},
   "source": [
    "#### 2.2.1. Create simulated data. "
   ]
  },
  {
   "cell_type": "code",
   "execution_count": null,
   "metadata": {},
   "outputs": [],
   "source": [
    "trial_types = 12\n",
    "n_sim_categories = 4\n",
    "repetitions_per_trial = 24\n",
    "trial_noise = 0.5 # multiplying factor for the noise for each trial.\n",
    "trials_per_category = int(trial_types / n_sim_categories)\n",
    "\n",
    "# The template per category. One common signal per category. \n",
    "# This will be the similarity within category.\n",
    "category_templates = np.random.randn(n_sim_categories, repetitions_per_trial)\n",
    "\n",
    "# Add some noise to each trial and add the category template to each trial.\n",
    "# This will create the trial activity.\n",
    "trials = np.zeros((trial_types, repetitions_per_trial))\n",
    "for category_counter in range(n_sim_categories):\n",
    "    category_trials = np.random.randn(trials_per_category, repetitions_per_trial) * trial_noise\n",
    "    for trial_counter in range(trials_per_category):\n",
    "        trials[(trials_per_category * category_counter) + trial_counter, :] = category_templates[category_counter, :] + category_trials[trial_counter, :]\n",
    "\n"
   ]
  },
  {
   "cell_type": "markdown",
   "metadata": {},
   "source": [
    "#### 2.2.2. Compute correlation and plot the result"
   ]
  },
  {
   "cell_type": "code",
   "execution_count": null,
   "metadata": {},
   "outputs": [],
   "source": [
    "# Create the correlation matrix    \n",
    "sim_r1 = np.corrcoef(trials)\n",
    "plt.figure(figsize=(8, 8))\n",
    "plt.imshow(sim_r1, \n",
    "           interpolation='none',\n",
    "           cmap='bwr', \n",
    "           vmin=-1,\n",
    "           vmax=1,\n",
    "          )\n",
    "plt.colorbar()"
   ]
  },
  {
   "cell_type": "markdown",
   "metadata": {},
   "source": [
    "In the above plot you should see some clear blocking structure along the diagonal: items within a category are more similar to one another than they are to items in different categories."
   ]
  },
  {
   "cell_type": "markdown",
   "metadata": {},
   "source": [
    "#### 2.2.3. Make two categories similar and observe changes in the similarity matrix \n",
    "\n",
    "Below we create a plot where there is off-diagonal structure. High similarity in off-diagonal parts of a similarity matrix means that elements that are far apart in the ordering have similar structure. In this toy simulation we create an example where the first and third categories are similar to one another (i.e., faces and body parts)."
   ]
  },
  {
   "cell_type": "code",
   "execution_count": null,
   "metadata": {},
   "outputs": [],
   "source": [
    "# Overwrite the template for the 3rd category with the template for 1st category. \n",
    "# Python indexing begins at [0].\n",
    "category_templates[2, :] = category_templates[0, :]\n",
    "\n",
    "# Create the trial activity\n",
    "trials = np.zeros((trial_types, repetitions_per_trial))\n",
    "for category_counter in range(n_sim_categories):\n",
    "    category_trials = np.random.randn(trials_per_category, repetitions_per_trial) * trial_noise\n",
    "    for trial_counter in range(trials_per_category):\n",
    "        trials[(trials_per_category * category_counter) + trial_counter, :] = category_templates[category_counter, :] + category_trials[trial_counter, :]\n",
    "\n",
    "# Create the correlation matrix    \n",
    "sim_r2 = np.corrcoef(trials)\n",
    "plt.figure(figsize=(8, 8))\n",
    "plt.imshow(sim_r2, \n",
    "           interpolation='none',\n",
    "           cmap='bwr', \n",
    "           vmin=-1,\n",
    "           vmax=1,\n",
    "          )\n",
    "plt.colorbar()"
   ]
  },
  {
   "cell_type": "markdown",
   "metadata": {},
   "source": [
    "**Exercise 4:**<a id=\"ex4\"></a> Now use your new knowledge about reading a similarity matrix to interpret the matrix you created for the real data [Exercise 3](#ex3)."
   ]
  },
  {
   "cell_type": "markdown",
   "metadata": {},
   "source": [
    "**A:**"
   ]
  },
  {
   "cell_type": "markdown",
   "metadata": {},
   "source": [
    "### 2.3 Representational dissimilarity <a id=\"read_dsim_mat\"></a>\n",
    "\n",
    "The previous analyses framed everything in terms of similarity between the items. However people sometimes prefer to consider this type of data in terms of dissimilarity. This close cousin of the similarity matrix is called the representational dissimilarity matrix (RDM). The dissimilarity matrix is computed simply as 1 - correlation. "
   ]
  },
  {
   "cell_type": "markdown",
   "metadata": {},
   "source": [
    "**Exercise 5:**<a id=\"ex5\"></a> Plot the RDM for the right FFA ROI using the new order as you created in [Exercise 3](#ex3)."
   ]
  },
  {
   "cell_type": "code",
   "execution_count": null,
   "metadata": {},
   "outputs": [],
   "source": [
    "# Insert code here"
   ]
  },
  {
   "cell_type": "markdown",
   "metadata": {},
   "source": [
    "**Exercise 6:** For RDM plots based on correlation values, what does an RDM value greater than 1 correspond to in terms of a correlation?"
   ]
  },
  {
   "cell_type": "markdown",
   "metadata": {},
   "source": [
    "**A:**"
   ]
  },
  {
   "cell_type": "markdown",
   "metadata": {},
   "source": [
    "### 2.4 Comparison of representations in monkeys and humans <a id=\"rdm-monkey-human\"></a>\n",
    "\n",
    "The RSA can be used to compare information not just in humans, but across species too. Below is comparison of the RDM for monkeys and humans, in the inferior temporal cortex (Color map altered to match Figure 1 in Kriegeskorte et al. (2008))."
   ]
  },
  {
   "cell_type": "code",
   "execution_count": null,
   "metadata": {},
   "outputs": [],
   "source": [
    "# Load the data, and bin to percentile\n",
    "monkeyRDM = pd.read_csv(os.path.join(ns_data_dir, 'RDM_mIT_fig1.txt'), header=None)\n",
    "humanRDM = pd.read_csv(os.path.join(ns_data_dir, 'RDM_hIT_fig1.txt'), header=None)\n",
    "\n",
    "monkey_rdm_digitized = digitize_rdm(monkeyRDM)\n",
    "human_rdm_digitized = digitize_rdm(humanRDM)\n",
    "\n",
    "f, axes = plt.subplots(1,2, figsize = (14, 6))\n",
    "axes[0].imshow(\n",
    "    monkey_rdm_digitized, \n",
    "    cmap='jet', \n",
    ")\n",
    "axes[1].imshow(\n",
    "     human_rdm_digitized, \n",
    "     cmap='jet', \n",
    ")\n",
    "# plt.colorbar()\n",
    "axes[0].set_title('Monkey RDM')\n",
    "axes[1].set_title('Human RDM')\n",
    "\n",
    "#for i in range(2): \n",
    "#    axes[i].set_xlabel('stimuli id')\n",
    "#    axes[i].set_ylabel('stimuli id')"
   ]
  },
  {
   "cell_type": "markdown",
   "metadata": {},
   "source": [
    "## 3. Multi-dimensional scaling (MDS) <a id=\"mds\"></a>\n",
    "\n",
    "The correlation matrix for the 92 images describes how similar each item is to each other item. This means that if two items have a high positive correlation then they can be thought of as eliciting a very similar activation pattern across voxels. We can reframe this to be thought of as a distance in a high-dimensional space. From this perspective, items that are similar to one another will be grouped close together and far away from points that they are dissimilar to. \n",
    "\n",
    "MDS allows us to visualize the similarity of our data in a different way than plotting the matrices above. Specifically, it allows to generate a lower-dimensional image (e.g., 2-D or 3-D) in which the distances between points approximate the distances in the original high-dimensional data. There is an MDS [method](https://homepages.uni-tuebingen.de/florian.wickelmaier/pubs/Wickelmaier2003SQRU.pdf) built into [scikit-learn](http://scikit-learn.org/stable/modules/manifold.html#multidimensional-scaling)."
   ]
  },
  {
   "cell_type": "code",
   "execution_count": null,
   "metadata": {},
   "outputs": [],
   "source": [
    "# Create a 2-D MDS\n",
    "mds = MDS(n_components=2, dissimilarity=\"precomputed\", random_state=0)  # Create the MDS object\n",
    "results = mds.fit(digitize_rdm(1 - rsm))  # Use the dissimilarity matrix"
   ]
  },
  {
   "cell_type": "markdown",
   "metadata": {},
   "source": [
    "**Exercise 7:**<a id=\"ex7\"></a> How does changing the order of the data (e.g., shuffling the rows/columns) in your RDM affect the distance between points calculated by MDS? "
   ]
  },
  {
   "cell_type": "markdown",
   "metadata": {},
   "source": [
    "**A:**"
   ]
  },
  {
   "cell_type": "markdown",
   "metadata": {},
   "source": [
    "### 3.1 Plot the 2D structure of the RDM <a id=\"plot_2d\"></a>\n",
    "\n",
    "We'll plot the 92 images on a \"map\" signifying how close or far apart images are to each other. We use different colors for the 6 categories of images."
   ]
  },
  {
   "cell_type": "code",
   "execution_count": null,
   "metadata": {},
   "outputs": [],
   "source": [
    "coords = results.embedding_\n",
    "\n",
    "plt.figure(figsize=(10, 7))\n",
    "for label_counter in np.unique(labels[:92]):\n",
    "    label_idxs = (labels[:92] == label_counter)[:]\n",
    "    plt.scatter(\n",
    "        coords[label_idxs, 0], coords[label_idxs, 1], \n",
    "        marker = 'o', s = 50\n",
    "        )\n",
    "plt.legend(categories, bbox_to_anchor=(1, .8), loc=\"upper left\")\n",
    "plt.title('MDS, 2D');"
   ]
  },
  {
   "cell_type": "markdown",
   "metadata": {},
   "source": [
    "**Self-study**: On the MDS plot you are currently plotting each item as a point. You could instead load in each image and plot that image on the MDS plot directly to get a feel for which stimuli are being grouped."
   ]
  },
  {
   "cell_type": "markdown",
   "metadata": {},
   "source": [
    "### 3.2 Plot the 3D structure of the RDM <a id=\"plot_3d\"></a>\n",
    "\n",
    "MDS is just trying to find a k-dimensional embedding that minimizes the stress (something akin to the goodness of fit). This means we can actually plot it in arbitrarily high dimensions to try and capture the data structure. Below we make a 3D plot, given that the 2D plot."
   ]
  },
  {
   "cell_type": "code",
   "execution_count": null,
   "metadata": {},
   "outputs": [],
   "source": [
    "# Multi-dimensional scaling\n",
    "mds = MDS(n_components=3, dissimilarity=\"precomputed\", random_state=0)\n",
    "results = mds.fit(digitize_rdm(1 - rsm))\n",
    "\n",
    "coords = results.embedding_\n",
    "\n",
    "fig = plt.figure(figsize=(10, 7))\n",
    "ax = fig.add_subplot(111, projection='3d')\n",
    "for label_counter in np.unique(labels[:92]):\n",
    "    label_idxs = (labels[:92] == label_counter)[:]\n",
    "    ax.scatter(\n",
    "        coords[label_idxs, 0], coords[label_idxs, 1], coords[label_idxs, 2], \n",
    "        marker = 'o', s = 50\n",
    "    )\n",
    "    \n",
    "plt.legend(categories, bbox_to_anchor=(1,.7), loc=\"upper left\")\n",
    "plt.title('MDS, 3D')\n",
    "plt.tight_layout()"
   ]
  },
  {
   "cell_type": "markdown",
   "metadata": {},
   "source": [
    "There are tools available to us to evaluate what is the appropriate dimensionality for visualization of our data (i.e. what dimensionality has sufficiently low stress). We can look at the stress of the MDS with different numbers of components (i.e. different dimensionality) and determine what dimensionality of the data is appropriate.\n",
    "\n",
    "Let's make a toy problem to start off with in order to get a handle on what this should look like. We are going to make points that lie on a line in 3D space. Because a line has only one dimension of information (along its length) the data ought to be able to be reduced in dimensionality to a single dimension. We will run MDS on this data to see if that is the case."
   ]
  },
  {
   "cell_type": "code",
   "execution_count": null,
   "metadata": {},
   "outputs": [],
   "source": [
    "coords = np.linspace(1, 30, 30)\n",
    "coords = np.vstack((coords, coords, coords)).T\n",
    "\n",
    "fig = plt.figure()\n",
    "ax = fig.add_subplot(111, projection='3d')\n",
    "ax.scatter(coords[:, 0], coords[:, 1], coords[:, 2])"
   ]
  },
  {
   "cell_type": "code",
   "execution_count": null,
   "metadata": {},
   "outputs": [],
   "source": [
    "# Calculate the euclidean distance of every point from every other point\n",
    "dist = sp_distance.squareform(sp_distance.pdist(coords))\n",
    "\n",
    "# Iterate through different numbers of components\n",
    "stress = []\n",
    "for components in range(1, 6):\n",
    "    mds = MDS(n_components=components, dissimilarity=\"precomputed\", random_state=0)\n",
    "    # Pull out the stress of the MDS fit\n",
    "    stress.append(mds.fit(dist).stress_)\n",
    "\n",
    "# Plot the stress\n",
    "plt.figure(); \n",
    "plt.plot(range(1, 6), stress)\n",
    "plt.ylabel('Stress')\n",
    "plt.xlabel('Dimensionality')"
   ]
  },
  {
   "cell_type": "markdown",
   "metadata": {},
   "source": [
    "**Exercise 8:**<a id=\"ex8\"></a> It is not typical for data to be able to be described accurately in low dimensionality: stress generally decreases with the number of components. Perform a similar analysis below to estimate the appropriate dimensionality to visualize the RDM of the right FFA data from this participant. What is the appropriate lower dimensional representation of the data? Note: Make sure you don't calculate the stress metric from the MDS embedding, calculate the MDS fit from the RDM.\n",
    "\n",
    "MDS documentation: https://scikit-learn.org/stable/modules/generated/sklearn.manifold.MDS.html \n",
    "\n",
    "Here's the list of arguments for MDS: \n",
    "```\n",
    "MDS(n_components=2, metric=True, n_init=4, max_iter=300, verbose=0, eps=0.001, n_jobs=None, random_state=None, dissimilarity=’euclidean’)\n",
    "```\n",
    "\n",
    "Empirically, more stringent convergence criteria (i.e. large `n_init` and `max_iter`, small `eps`) will lead to more stable results. "
   ]
  },
  {
   "cell_type": "markdown",
   "metadata": {},
   "source": [
    "**A:**"
   ]
  },
  {
   "cell_type": "code",
   "execution_count": null,
   "metadata": {},
   "outputs": [],
   "source": [
    "# Insert code here"
   ]
  },
  {
   "cell_type": "markdown",
   "metadata": {},
   "source": [
    "**Exercise 9:**<a id=\"ex9\"></a> Compute RDMs and create MDS plots for the left PPA and right PPA using the reordering you created above."
   ]
  },
  {
   "cell_type": "code",
   "execution_count": null,
   "metadata": {},
   "outputs": [],
   "source": [
    "# Insert code here"
   ]
  },
  {
   "cell_type": "markdown",
   "metadata": {},
   "source": [
    "**Exercise 10:** <a id=\"ex10\"></a>The last four rows in the dataset for subject BE have unmarked labels. One of them is a human face. Using the techniques outlined here and your knowledge of the category preference of each ROI, analyze the data to make a best guess of which one of the 4 missing labels is a human face. Show your work and reasoning that led you to this conclusion. Hint: It will help to visualize these 4 points amongst the points you already have. It would also help to compare the response of each of the missing data points with a 'canonical' face response."
   ]
  },
  {
   "cell_type": "code",
   "execution_count": null,
   "metadata": {},
   "outputs": [],
   "source": [
    "# Insert code here"
   ]
  },
  {
   "cell_type": "markdown",
   "metadata": {},
   "source": [
    "**Novel contribution:**<a id=\"novel\"></a>  be creative and make one new discovery by adding an analysis, visualization, or optimization.\n",
    "\n",
    "Some examples:  \n",
    "\n",
    "- visualize the average RDM across subjects\n",
    "- compare the empirical RDM to some theoretical RDM\n",
    "- check the consistency between hierarchical clustering vs. ground truth label ordering \n",
    "- use other dimensionality reduction methods to visualize the data (PCA, tSNE, etc.)\n",
    "- perform some classification on this data set\n",
    "- apply RSA on previous datasets (e.g. VDC, the simulated dataset used in the 1st notebook)\n",
    "- apply RSA on previous datasets (e.g., VDC)\n",
    "- even better, your own ambitious ideas! "
   ]
  },
  {
   "cell_type": "markdown",
   "metadata": {},
   "source": [
    "## Contributions <a id=\"contributions\"></a> \n",
    "\n",
    "M. Kumar, C. Ellis and N. Turk-Browne produced the initial notebook. 02/2018   \n",
    "The mystery label exercise was borrowed from a matlab version created by F. Pereira.  \n",
    "T. Meissner minor edits.  \n",
    "Q. Lu plot aesthetics, digitization func, modularize funcs, re-ordering, replicate the original paper.  \n",
    "K.A. Norman provided suggestions on the overall content and made edits to this notebook.  \n",
    "C. Ellis implemented updates from cmhn-s19"
   ]
  }
 ],
 "metadata": {
  "anaconda-cloud": {},
  "kernelspec": {
   "display_name": "Python 3",
   "language": "python",
   "name": "python3"
  },
  "language_info": {
   "codemirror_mode": {
    "name": "ipython",
    "version": 3
   },
   "file_extension": ".py",
   "mimetype": "text/x-python",
   "name": "python",
   "nbconvert_exporter": "python",
   "pygments_lexer": "ipython3",
   "version": "3.7.4"
  }
 },
 "nbformat": 4,
 "nbformat_minor": 2
}
